{
 "cells": [
  {
   "cell_type": "markdown",
   "metadata": {},
   "source": [
    "# __322 Project Proposal__\n",
    "## Disc Golf Tournament Predictor\n",
    "_Riley Sikes and Kai Courtney_"
   ]
  },
  {
   "cell_type": "markdown",
   "metadata": {},
   "source": [
    "### Disc Golf Tournament Description\n",
    "\n",
    "* Disc golf is similiar to ball golf, but is played with discs that you try to throw into a basket with as few throws as possible.\n",
    "* Disc gold courses generally have 18 - 27 \"holes\" with tournaments having 2 - 4 rounds played across multiple days. \n",
    "* Since a tournament can have upwards of 100 people, groups of 4 play together forming a \"card\". The lead card generally contains the featured players (featured being kind of arbitrary at this point) for the first day/round and the leading four players for the following days/rounds.\n",
    "* The sport has seen a lot of growth in the past couple years, resulting in tournaments becoming more popular, competitve, and having larger prize pools.\n",
    "* While the definition of being a professsional disc golfer is loose, we are interested in looking at tournaments that are on the pro tour circuit. These tournaments are played annually, generally with similiar people and conditions. This will give us consitent data which will be good for predictions.\n",
    "* If you want to learn more about these pro tournaments and disc golf in general, we recommend [Jomez Productions](https://www.youtube.com/c/JomezProductions) on youtube. They are a post production media company that does an amazing job at recording and providing commentary on the lead card of tournaments."
   ]
  },
  {
   "cell_type": "markdown",
   "metadata": {},
   "source": [
    "### Dataset Description"
   ]
  },
  {
   "cell_type": "markdown",
   "metadata": {},
   "source": [
    "__Source, Format, Contents__\n",
    "   * We will get past tournament data from the __Professional Disc Golf Association__ (PDGA) website, which keeps track of past tournaments. \n",
    "   * The website doesn't seem to have an export option, so we'll either have to mine the data by hand or code a program to scrape the data off the site. \n",
    "   * We can also look at youtube videos from the past couple years to look at weather conditions and other information not on the PDGA website.  \n",
    "   \n",
    "__Attributes Description__\n",
    "   * We plan on trying to predict the score and placing of players for a list of pro tournament. So our model would take in a list of players, the tournament title, weather conditions, and possibly other attributes that we think of while working, and predict the score and placing of the players. \n",
    "   * We also plan on adding a way to update the prediction based on each round performance, so if a tournament is four rounds long, we will be able to make an initial prediction, an updated prediction after round one, again ater round two, etc.  \n",
    "   * Each player will have information like past tournament scores/placing, sponsor company, PDGA rating, age, and other attributes we come across that we will use in our model.    "
   ]
  },
  {
   "cell_type": "markdown",
   "metadata": {},
   "source": [
    "### Implementation/Technical Merit"
   ]
  },
  {
   "cell_type": "markdown",
   "metadata": {},
   "source": [
    "__Anticipated Challenges__\n",
    "   * One of the challenges we will be facing is classifying the weather at the tournament for each year/round. While we have video of the round we won’t know exactly what the wind was doing. Or if it was raining all day or for just for some of the day.\n",
    "   * While we can scrape round scores from the PDGA website we will have to manually find the weather for the tournaments by watching coverage from each year.  \n",
    "   \n",
    "__Handling Large Quantity of Attributes__\n",
    "   * We probably won’t have that problem but if we decide we have too much data we can either limit the amount of tournaments we look at or limit ourselves to the past 5 years. We will probably go with the second option as post-production is more established so it’s easier to find.\n",
    "\n"
   ]
  },
  {
   "cell_type": "markdown",
   "metadata": {},
   "source": [
    "### Potential Impact"
   ]
  },
  {
   "cell_type": "markdown",
   "metadata": {},
   "source": [
    "__Usefulness of Results__\n",
    "   * If we are able to successfully predict the winners of the tournaments then we can win a grip 6 belt (from UDisc).\n",
    "   * These predictions might be useful for statistical analysis about tournament results such as win% by round and “clutch factor” (who does the best in the final rounds)\n",
    "   * These results might be interesting to those who are looking to sponsor touring pros like disc manufacturers, local shops and other disc golf related companies (accessory, snack, apparel, etc.)\n",
    "   \n",
    "__Stakeholders__\n",
    "   * Disc Golf sponsors (manufactures, local shops, etc.)\n",
    "   * Pro Tour Fans\n",
    "   * Touring Pros\n",
    "   * Other disc golfers\n",
    "\n"
   ]
  }
 ],
 "metadata": {
  "interpreter": {
   "hash": "d4d1e4263499bec80672ea0156c357c1ee493ec2b1c70f0acce89fc37c4a6abe"
  },
  "kernelspec": {
   "display_name": "Python 3.9.7 ('base')",
   "language": "python",
   "name": "python3"
  },
  "language_info": {
   "name": "python",
   "version": "3.9.7"
  },
  "orig_nbformat": 4
 },
 "nbformat": 4,
 "nbformat_minor": 2
}
